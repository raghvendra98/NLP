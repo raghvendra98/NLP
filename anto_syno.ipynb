{
 "cells": [
  {
   "cell_type": "markdown",
   "metadata": {},
   "source": [
    "# Word to synonyms antonyms"
   ]
  },
  {
   "cell_type": "code",
   "execution_count": 1,
   "metadata": {},
   "outputs": [],
   "source": [
    "import nltk\n",
    "from nltk.corpus import wordnet"
   ]
  },
  {
   "cell_type": "code",
   "execution_count": 2,
   "metadata": {},
   "outputs": [],
   "source": [
    "array_synonyms=[]\n",
    "array_antonyms=[]"
   ]
  },
  {
   "cell_type": "code",
   "execution_count": 3,
   "metadata": {},
   "outputs": [
    {
     "name": "stdout",
     "output_type": "stream",
     "text": [
      "good\n"
     ]
    }
   ],
   "source": [
    "for vsyn in wordnet.synsets(input()):\n",
    "    for i in vsyn.lemmas():\n",
    "        array_synonyms.append(i.name())\n",
    "        if i.antonyms():\n",
    "            array_antonyms.append(i.antonyms() [0].name())"
   ]
  },
  {
   "cell_type": "code",
   "execution_count": 4,
   "metadata": {},
   "outputs": [
    {
     "name": "stdout",
     "output_type": "stream",
     "text": [
      "{'skilful', 'skillful', 'estimable', 'right', 'well', 'effective', 'serious', 'dear', 'secure', 'respectable', 'trade_good', 'honorable', 'dependable', 'in_force', 'undecomposed', 'thoroughly', 'unspoilt', 'upright', 'near', 'honest', 'goodness', 'unspoiled', 'salutary', 'ripe', 'just', 'practiced', 'proficient', 'sound', 'in_effect', 'good', 'full', 'safe', 'adept', 'beneficial', 'expert', 'soundly', 'commodity'}\n",
      "{'bad', 'evil', 'evilness', 'ill', 'badness'}\n"
     ]
    }
   ],
   "source": [
    "print(set(array_synonyms))\n",
    "print(set(array_antonyms))"
   ]
  },
  {
   "cell_type": "code",
   "execution_count": null,
   "metadata": {},
   "outputs": [],
   "source": []
  }
 ],
 "metadata": {
  "kernelspec": {
   "display_name": "Python 3",
   "language": "python",
   "name": "python3"
  },
  "language_info": {
   "codemirror_mode": {
    "name": "ipython",
    "version": 3
   },
   "file_extension": ".py",
   "mimetype": "text/x-python",
   "name": "python",
   "nbconvert_exporter": "python",
   "pygments_lexer": "ipython3",
   "version": "3.8.3"
  }
 },
 "nbformat": 4,
 "nbformat_minor": 4
}
