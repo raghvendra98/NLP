{
 "cells": [
  {
   "cell_type": "markdown",
   "metadata": {},
   "source": [
    "# Sentence Tokenization"
   ]
  },
  {
   "cell_type": "code",
   "execution_count": 5,
   "metadata": {},
   "outputs": [],
   "source": [
    "from nltk.tokenize import sent_tokenize"
   ]
  },
  {
   "cell_type": "code",
   "execution_count": 6,
   "metadata": {},
   "outputs": [],
   "source": [
    "text=\"\"\"  NLP enables the recognition and prediction of diseases based on electronic health records and patient’s \n",
    "own speech. This capability is being explored in health conditions that go from cardiovascular diseases to depression \n",
    "and even schizophrenia. For example, Amazon Comprehend Medical is a service that uses NLP to extract disease conditions,\n",
    "medications and treatment outcomes from patient notes, clinical trial reports and other electronic health records.\n",
    "Having an insight into what is happening and what people are talking about can be very valuable to financial traders. \n",
    "NLP is being used to track news, reports, comments about possible mergers between companies, \n",
    "everything can be then incorporated into a trading algorithm to generate massive profits. \n",
    "Remember: buy the rumor, sell the news\"\"\""
   ]
  },
  {
   "cell_type": "code",
   "execution_count": 7,
   "metadata": {},
   "outputs": [],
   "source": [
    "nltk_sentances = sent_tokenize(text)"
   ]
  },
  {
   "cell_type": "code",
   "execution_count": 8,
   "metadata": {},
   "outputs": [
    {
     "name": "stdout",
     "output_type": "stream",
     "text": [
      "['  NLP enables the recognition and prediction of diseases based on electronic health records and patient’s \\nown speech.', 'This capability is being explored in health conditions that go from cardiovascular diseases to depression \\nand even schizophrenia.', 'For example, Amazon Comprehend Medical is a service that uses NLP to extract disease conditions,\\nmedications and treatment outcomes from patient notes, clinical trial reports and other electronic health records.', 'Having an insight into what is happening and what people are talking about can be very valuable to financial traders.', 'NLP is being used to track news, reports, comments about possible mergers between companies, \\neverything can be then incorporated into a trading algorithm to generate massive profits.', 'Remember: buy the rumor, sell the news']\n"
     ]
    }
   ],
   "source": [
    "print(nltk_sentances)"
   ]
  },
  {
   "cell_type": "code",
   "execution_count": null,
   "metadata": {},
   "outputs": [],
   "source": []
  }
 ],
 "metadata": {
  "kernelspec": {
   "display_name": "Python 3",
   "language": "python",
   "name": "python3"
  },
  "language_info": {
   "codemirror_mode": {
    "name": "ipython",
    "version": 3
   },
   "file_extension": ".py",
   "mimetype": "text/x-python",
   "name": "python",
   "nbconvert_exporter": "python",
   "pygments_lexer": "ipython3",
   "version": "3.8.3"
  }
 },
 "nbformat": 4,
 "nbformat_minor": 4
}
